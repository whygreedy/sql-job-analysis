{
 "cells": [
  {
   "cell_type": "code",
   "execution_count": 1,
   "metadata": {},
   "outputs": [
    {
     "name": "stdout",
     "output_type": "stream",
     "text": [
      "|    |   job_id | job_title                                                         | company_name                 | job_location      | job_schedule_type   |   salary_year_avg | job_posted_date     |\n",
      "|---:|---------:|:------------------------------------------------------------------|:-----------------------------|:------------------|:--------------------|------------------:|:--------------------|\n",
      "|  0 |   226942 | Data Analyst                                                      | Mantys                       | Anywhere          | Full-time           |            650000 | 2023-02-20 15:13:33 |\n",
      "|  1 |   209315 | Data base administrator                                           | ЛАНИТ                        | Belarus           | Full-time           |            400000 | 2023-10-03 11:22:20 |\n",
      "|  2 |  1110602 | HC Data Analyst , Senior                                          | Illuminate Mission Solutions | Bethesda, MD      | Full-time           |            375000 | 2023-08-18 07:00:22 |\n",
      "|  3 |  1147675 | Sr Data Analyst                                                   | Illuminate Mission Solutions | Bethesda, MD      | Full-time           |            375000 | 2023-04-05 12:00:12 |\n",
      "|  4 |   641501 | Head of Infrastructure Management & Data Analytics - Financial... | Citigroup, Inc               | Jacksonville, FL  | Full-time           |            375000 | 2023-07-03 11:30:01 |\n",
      "|  5 |   229253 | Director of Safety Data Analysis                                  | Torc Robotics                | Austin, TX        | Full-time           |            375000 | 2023-04-21 08:01:55 |\n",
      "|  6 |  1059665 | Data Analyst                                                      | Anthropic                    | San Francisco, CA | Full-time           |            350000 | 2023-06-22 07:00:59 |\n",
      "|  7 |   101757 | Head of Data Analytics                                            | Care.com                     | Austin, TX        | Full-time           |            350000 | 2023-10-23 05:01:05 |\n",
      "|  8 |   547382 | Director of Analytics                                             | Meta                         | Anywhere          | Full-time           |            336500 | 2023-08-23 12:04:42 |\n",
      "|  9 |   894135 | Research Scientist                                                | OpenAI                       | San Francisco, CA | Full-time           |            285000 | 2023-04-19 18:04:21 |\n"
     ]
    }
   ],
   "source": [
    "import pandas as pd\n",
    "\n",
    "filepath = '/Users/cindy/Developer/SQL/sql-job-analysis/sql_result/1_top_paying_jobs.csv'\n",
    "\n",
    "df = pd.read_csv(filepath)\n",
    "markdown_table = df.to_markdown()\n",
    "print(markdown_table)\n"
   ]
  }
 ],
 "metadata": {
  "kernelspec": {
   "display_name": ".venv",
   "language": "python",
   "name": "python3"
  },
  "language_info": {
   "codemirror_mode": {
    "name": "ipython",
    "version": 3
   },
   "file_extension": ".py",
   "mimetype": "text/x-python",
   "name": "python",
   "nbconvert_exporter": "python",
   "pygments_lexer": "ipython3",
   "version": "3.10.1"
  }
 },
 "nbformat": 4,
 "nbformat_minor": 2
}
