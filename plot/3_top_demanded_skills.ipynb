{
 "cells": [
  {
   "cell_type": "code",
   "execution_count": 2,
   "metadata": {},
   "outputs": [
    {
     "name": "stdout",
     "output_type": "stream",
     "text": [
      "|    | skills   |   demand_count |\n",
      "|---:|:---------|---------------:|\n",
      "|  0 | sql      |          92628 |\n",
      "|  1 | excel    |          67031 |\n",
      "|  2 | python   |          57326 |\n",
      "|  3 | tableau  |          46554 |\n",
      "|  4 | power bi |          39468 |\n"
     ]
    }
   ],
   "source": [
    "import pandas as pd\n",
    "\n",
    "filepath = '/Users/cindy/Developer/SQL/sql-job-analysis/sql_result/3_top_demanded_skills.csv'\n",
    "df = pd.read_csv(filepath)\n",
    "markdown_table = df.to_markdown()\n",
    "\n",
    "print(markdown_table)\n"
   ]
  }
 ],
 "metadata": {
  "kernelspec": {
   "display_name": ".venv",
   "language": "python",
   "name": "python3"
  },
  "language_info": {
   "codemirror_mode": {
    "name": "ipython",
    "version": 3
   },
   "file_extension": ".py",
   "mimetype": "text/x-python",
   "name": "python",
   "nbconvert_exporter": "python",
   "pygments_lexer": "ipython3",
   "version": "3.10.1"
  }
 },
 "nbformat": 4,
 "nbformat_minor": 2
}
