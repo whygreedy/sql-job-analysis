{
 "cells": [
  {
   "cell_type": "code",
   "execution_count": 1,
   "metadata": {},
   "outputs": [
    {
     "name": "stdout",
     "output_type": "stream",
     "text": [
      "|    | skill      |   demand_count |   avg_salary |   min_salary |   max_salary |   median_salary |   index_dcount |   percentile_by_demand_count |   index_asalary |   percentile_by_avg_salary |\n",
      "|---:|:-----------|---------------:|-------------:|-------------:|-------------:|----------------:|---------------:|-----------------------------:|----------------:|---------------------------:|\n",
      "|  0 | sql        |           3083 |        96435 |        30000 |       375000 |         92500   |              1 |                            1 |              69 |                         67 |\n",
      "|  1 | excel      |           2143 |        86419 |        30000 |       375000 |         84500   |              2 |                            1 |              87 |                         85 |\n",
      "|  2 | python     |           1840 |       101512 |        35000 |       375000 |         98500   |              3 |                            2 |              48 |                         46 |\n",
      "|  3 | tableau    |           1659 |        97978 |        30000 |       375000 |         95000   |              4 |                            2 |              64 |                         62 |\n",
      "|  4 | r          |           1073 |        98708 |        35000 |       375000 |         92527.5 |              5 |                            3 |              62 |                         60 |\n",
      "|  5 | power bi   |           1044 |        92324 |        30000 |       375000 |         90000   |              6 |                            4 |              76 |                         74 |\n",
      "|  6 | sas        |           1000 |        93707 |        41447 |       375000 |         90000   |              7 |                            5 |              74 |                         72 |\n",
      "|  7 | word       |            527 |        82941 |        30000 |       375000 |         80850   |              8 |                            6 |              97 |                         95 |\n",
      "|  8 | powerpoint |            524 |        88316 |        30000 |       255830 |         85000   |              9 |                            7 |              83 |                         81 |\n",
      "|  9 | sql server |            336 |        96191 |        44100 |       185000 |         92500   |             10 |                            8 |              70 |                         68 |\n",
      "| 10 | oracle     |            332 |       100964 |        40000 |       400000 |         95588.2 |             11 |                            9 |              53 |                         51 |\n",
      "| 11 | azure      |            319 |       105400 |        32400 |       255830 |        100000   |             12 |                           10 |              38 |                         36 |\n",
      "| 12 | airflow    |             71 |       116387 |        51014 |       375000 |        111175   |             49 |                           47 |               7 |                          5 |\n",
      "| 13 | confluence |             62 |       114153 |        57500 |       189309 |        111175   |             54 |                           52 |              10 |                          8 |\n",
      "| 14 | scala      |             59 |       115480 |        50000 |       234000 |        111175   |             56 |                           54 |               8 |                          6 |\n",
      "| 15 | linux      |             58 |       114883 |        50000 |       400000 |        112150   |             58 |                           56 |               9 |                          7 |\n",
      "| 16 | mongodb    |             52 |       113608 |        48000 |       204585 |        111838   |             61 |                           59 |              12 |                         10 |\n",
      "| 17 | pyspark    |             49 |       114058 |        53014 |       255830 |        111175   |             62 |                           60 |              11 |                          9 |\n",
      "| 18 | kafka      |             40 |       129999 |        51014 |       400000 |        115095   |             66 |                           64 |               1 |                          1 |\n",
      "| 19 | tensorflow |             24 |       120647 |        77500 |       198000 |        105000   |             82 |                           80 |               4 |                          2 |\n",
      "| 20 | pytorch    |             20 |       125226 |        70000 |       220000 |        107000   |             86 |                           84 |               2 |                          1 |\n",
      "| 21 | perl       |             20 |       124686 |        56700 |       186500 |        119550   |             87 |                           85 |               3 |                          2 |\n",
      "| 22 | atlassian  |             15 |       117966 |        65000 |       190000 |        102500   |             94 |                           92 |               6 |                          4 |\n",
      "| 23 | cassandra  |             11 |       118407 |        53014 |       204585 |        111175   |            102 |                          100 |               5 |                          3 |\n"
     ]
    }
   ],
   "source": [
    "import pandas as pd\n",
    "\n",
    "filepath = '/Users/cindy/Developer/SQL/sql-job-analysis/sql_result/6_skills.csv'\n",
    "df = pd.read_csv(filepath)\n",
    "markdown_table = df.to_markdown()\n",
    "print(markdown_table)"
   ]
  }
 ],
 "metadata": {
  "kernelspec": {
   "display_name": ".venv",
   "language": "python",
   "name": "python3"
  },
  "language_info": {
   "codemirror_mode": {
    "name": "ipython",
    "version": 3
   },
   "file_extension": ".py",
   "mimetype": "text/x-python",
   "name": "python",
   "nbconvert_exporter": "python",
   "pygments_lexer": "ipython3",
   "version": "3.10.1"
  }
 },
 "nbformat": 4,
 "nbformat_minor": 2
}
