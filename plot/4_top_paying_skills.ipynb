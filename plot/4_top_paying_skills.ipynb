{
 "cells": [
  {
   "cell_type": "code",
   "execution_count": 1,
   "metadata": {},
   "outputs": [
    {
     "name": "stdout",
     "output_type": "stream",
     "text": [
      "|    | skill        |   avg_salary |   demand_count |\n",
      "|---:|:-------------|-------------:|---------------:|\n",
      "|  0 | svn          |       400000 |              1 |\n",
      "|  1 | solidity     |       179000 |              1 |\n",
      "|  2 | couchbase    |       160515 |              1 |\n",
      "|  3 | datarobot    |       155486 |              1 |\n",
      "|  4 | golang       |       155000 |              2 |\n",
      "|  5 | mxnet        |       149000 |              2 |\n",
      "|  6 | dplyr        |       147633 |              3 |\n",
      "|  7 | vmware       |       147500 |              1 |\n",
      "|  8 | terraform    |       146734 |              3 |\n",
      "|  9 | twilio       |       138500 |              2 |\n",
      "| 10 | gitlab       |       134126 |              7 |\n",
      "| 11 | kafka        |       129999 |             40 |\n",
      "| 12 | puppet       |       129820 |              2 |\n",
      "| 13 | keras        |       127013 |              3 |\n",
      "| 14 | pytorch      |       125226 |             20 |\n",
      "| 15 | perl         |       124686 |             20 |\n",
      "| 16 | ansible      |       124370 |              2 |\n",
      "| 17 | hugging face |       123950 |              2 |\n",
      "| 18 | tensorflow   |       120647 |             24 |\n",
      "| 19 | cassandra    |       118407 |             11 |\n",
      "| 20 | notion       |       118092 |              6 |\n",
      "| 21 | atlassian    |       117966 |             15 |\n",
      "| 22 | bitbucket    |       116712 |              6 |\n",
      "| 23 | airflow      |       116387 |             71 |\n",
      "| 24 | scala        |       115480 |             59 |\n"
     ]
    }
   ],
   "source": [
    "import pandas as pd\n",
    "\n",
    "filepath = '/Users/cindy/Developer/SQL/sql-job-analysis/sql_result/4_top_paying_skills.csv'\n",
    "df = pd.read_csv(filepath)\n",
    "markdown_table = df.to_markdown()\n",
    "print(markdown_table)\n"
   ]
  }
 ],
 "metadata": {
  "kernelspec": {
   "display_name": ".venv",
   "language": "python",
   "name": "python3"
  },
  "language_info": {
   "codemirror_mode": {
    "name": "ipython",
    "version": 3
   },
   "file_extension": ".py",
   "mimetype": "text/x-python",
   "name": "python",
   "nbconvert_exporter": "python",
   "pygments_lexer": "ipython3",
   "version": "3.10.1"
  }
 },
 "nbformat": 4,
 "nbformat_minor": 2
}
